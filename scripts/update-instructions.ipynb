{
 "cells": [
  {
   "cell_type": "code",
   "execution_count": null,
   "id": "944d0a5d",
   "metadata": {},
   "outputs": [],
   "source": [
    "import os\n",
    "from dotenv import load_dotenv\n",
    "import requests\n",
    "import pandas as pd\n",
    "from datetime import datetime, timedelta, timezone\n",
    "from openai import AzureOpenAI\n",
    "import jwt\n",
    "\n",
    "github_token = os.getenv(\"GITHUB_TOKEN\")\n",
    "endpoint = https://models.inference.ai.azure.com/\n",
    "\n",
    "headers = {\n",
    "    \"Authorization\": f\"Bearer {github_token}\",\n",
    "    \"Accept\": \"application/vnd.github.v3+json\",\n",
    "}\n",
    "\n",
    "client = AzureOpenAI(\n",
    "    azure_endpoint=endpoint,\n",
    "    api_key=github_token,\n",
    "    api_version=\"2025-01-01-preview\",\n",
    ")\n",
    "\n",
    "# instruction_prompt = \"Read the uncommitted changes in the workspace and understand what has been changed, then read all the instructions files under the `.github/instructions` folder and see if the changes you made invalidate any of the instructions. If so, provide a proposal to users on how to update the instructions to reflect the changes you made. If no updates are needed, just say \\\"No updates needed\\\". Be concise and conservative with your suggestions. Only suggest changes that are absolutely necessary.\"\n",
    "\n",
    "response = client.chat.completions.create(\n",
    "\tmessages=[\n",
    "\t\t# {\"role\": \"system\", \"content\": system_prompt},\n",
    "\t\t# {\"role\": \"user\", \"content\": instruction_prompt},\n",
    "\t\t{\"role\": \"user\", \"content\": \"hello\"}\n",
    "\t],\n",
    "\tmodel=\"gpt-4.1\",\n",
    "\ttemperature=0,\n",
    "\tmax_tokens=10,\n",
    "\ttop_p=1,\n",
    ")\n",
    "print(response.choices[0].message.content)"
   ]
  }
 ],
 "metadata": {
  "language_info": {
   "name": "python"
  }
 },
 "nbformat": 4,
 "nbformat_minor": 5
}
